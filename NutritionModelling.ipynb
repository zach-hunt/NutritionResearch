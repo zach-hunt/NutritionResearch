{
 "cells": [
  {
   "cell_type": "markdown",
   "metadata": {},
   "source": [
    "### Imports"
   ]
  },
  {
   "cell_type": "code",
   "execution_count": 1,
   "metadata": {},
   "outputs": [
    {
     "data": {
      "application/javascript": [
       "if (!(\"Notification\" in window)) {\n",
       "    alert(\"This browser does not support desktop notifications, so the %%notify magic will not work.\");\n",
       "} else if (Notification.permission !== 'granted' && Notification.permission !== 'denied') {\n",
       "    Notification.requestPermission(function (permission) {\n",
       "        if(!('permission' in Notification)) {\n",
       "            Notification.permission = permission;\n",
       "        }\n",
       "    })\n",
       "}\n"
      ],
      "text/plain": [
       "<IPython.core.display.Javascript object>"
      ]
     },
     "metadata": {},
     "output_type": "display_data"
    }
   ],
   "source": [
    "import gurobipy as gp\n",
    "import pandas as pd\n",
    "import numpy as np\n",
    "import os\n",
    "\n",
    "%load_ext jupyternotify"
   ]
  },
  {
   "cell_type": "markdown",
   "metadata": {},
   "source": [
    "### Functions"
   ]
  },
  {
   "cell_type": "code",
   "execution_count": 2,
   "metadata": {},
   "outputs": [],
   "source": [
    "def vprint_factory(verbose: bool = False):\n",
    "    if verbose:\n",
    "        return print\n",
    "    return lambda *x, **y: None"
   ]
  },
  {
   "cell_type": "code",
   "execution_count": 3,
   "metadata": {},
   "outputs": [],
   "source": [
    "def extract(data, row, fact, maximize=True):\n",
    "    text = str(data.iloc[row][fact]).strip(\"mg%?\")\n",
    "    if str(text) == \"nan\" or len(text) == 0:\n",
    "        return (maximize - 0.5) * 1_000_000\n",
    "    return float(text)"
   ]
  },
  {
   "cell_type": "code",
   "execution_count": 4,
   "metadata": {},
   "outputs": [],
   "source": [
    "def classify_age(a: int, year=2020) -> str:\n",
    "    a = round(a, 0)\n",
    "    age_strings_2015 = [\"1-3\", \"4-8\", \"9-13\", \"14-18\", \"19-30\", \"31-50\", \"51+\"]\n",
    "    age_strings_2020 = [\"2-3\", \"4-8\", \"9-13\", \"14-18\", \"19-30\", \"31-50\", \"51+\"]\n",
    "    age_groups = [tuple([int(age) for age in i.split(\"-\")]) if \"-\" in i else (int(i.strip(\"+\")), 110) for i in age_strings_2015]\n",
    "    for i, age in enumerate(age_groups):\n",
    "        if age[0] <= a <= age[1]:\n",
    "            if year == 2020:\n",
    "                return age_strings_2020[i]\n",
    "            else:\n",
    "                return age_strings_2015[i]\n",
    "    else:\n",
    "        raise ValueError(f\"{a} is not a valid age in the {year} guidelines.\")"
   ]
  },
  {
   "cell_type": "markdown",
   "metadata": {},
   "source": [
    "### File Input"
   ]
  },
  {
   "cell_type": "code",
   "execution_count": 5,
   "metadata": {},
   "outputs": [],
   "source": [
    "def load_ref_files(nutrition_name=\"Nutritional Facts - Categorized\", guidelines_name=\"Dietary Guidelines\", year=2020):\n",
    "    df = pd.read_excel(nutrition_name + \".xlsm\", index_col=0)\n",
    "    guide = pd.read_excel(guidelines_name + \".xlsx\", header=1,\n",
    "                          index_col=[1, 2], skiprows=[2],\n",
    "                          sheet_name=f\"Dietary Guidelines {year}\").drop(\"Unnamed: 0\", axis=1)\n",
    "    return df, guide"
   ]
  },
  {
   "cell_type": "markdown",
   "metadata": {},
   "source": [
    "### Requirement Selection"
   ]
  },
  {
   "cell_type": "code",
   "execution_count": 6,
   "metadata": {
    "scrolled": true
   },
   "outputs": [],
   "source": [
    "def guide_lookup(gender: str, age: int, guide: pd.DataFrame, columns=[]):\n",
    "    ff_nutrition_to_guidelines = {\"Protein\": \"Protein (g)\",\n",
    "                                  \"Vitamin A %\": \"Vitamin A (mcg RAEd)\",\n",
    "                                  \"Sodium\": \"Sodium (mg)\",\n",
    "                                  \"Total Carbohydrates\": \"Carbohydrate (g)\",\n",
    "                                  \"Dietary Fiber\": \"Fiber (g)\",\n",
    "                                  \"Calories\": \"Calorie Level Assessed\", }\n",
    "    guidelines_to_ff_nutrition = {value: key for key, value in ff_nutrition_to_guidelines.items()}\n",
    "    guideline_kcals_to_ff_nutrition = {# \"Total lipid (% kcal)\": \"Total Fat\",\n",
    "                                       \"Added Sugars (% kcal)\": \"Sugars\",\n",
    "                                       \"Saturated Fatty Acids (% kcal)\": \"Saturated Fat\",\n",
    "                                       \"Calorie Level Assessed\": \"Calories From Fat\"}\n",
    "    genders = {\"m\": \"Male\", \"f\": \"Female\"}\n",
    "    gender = genders[gender[0].lower()] # 'm' / 'M' / 'male' / 'Male' -> 'Male'\n",
    "    # Selecting the appropriate Row\n",
    "    filtered = guide.loc[gender, classify_age(age)]\n",
    "    # Handling kcal measurements\n",
    "    cal_level = filtered[\"Calorie Level Assessed\"]\n",
    "    nutrient_cals = {\"Total Fat\": 9, \"Saturated Fat\": 9, \"Sugars\": 4, \"Calories From Fat\": cal_level / 10}  # Cals from fat <= 10% cal_level\n",
    "    for kcal_nutrient, out_name in guideline_kcals_to_ff_nutrition.items():\n",
    "        new_entry = pd.Series(index=[out_name],\n",
    "                              data=float(str(filtered[kcal_nutrient]).strip(\"<>\").split(\"-\")[-1]) / 100\n",
    "                                         * cal_level / nutrient_cals[out_name])\n",
    "        filtered = filtered.append(new_entry)\n",
    "        filtered.drop(columns=kcal_nutrient, inplace=True)\n",
    "    filtered.drop((col for col in filtered.index\n",
    "                   if col not in guidelines_to_ff_nutrition.keys()\n",
    "                   and col not in guideline_kcals_to_ff_nutrition.values()),\n",
    "                  inplace=True)\n",
    "    filtered.rename(guidelines_to_ff_nutrition, inplace=True) # I made this right at the end to potentially fix a problem, but I don't think it worked. Evaluate!\n",
    "    return filtered[columns] if columns else filtered"
   ]
  },
  {
   "cell_type": "markdown",
   "metadata": {},
   "source": [
    "### Model Building: Variables, Constraints, and Objective"
   ]
  },
  {
   "cell_type": "code",
   "execution_count": 7,
   "metadata": {},
   "outputs": [],
   "source": [
    "def create_model(subset: pd.DataFrame, less_thans: list, guide: pd.DataFrame, costs: dict, objective: list,\n",
    "                 filter_relaxations: set = {}, meals: int = 2, cat_limit: int = 0, min_cal_cutoff: int = 1,\n",
    "                 var_type: str = \"I\", verbose: bool = False):\n",
    "    \"\"\"\n",
    "    Generates the Gurobi model according to many available filters and options, discussed below\n",
    "    \n",
    "    :subset: menu items to consider, frequently broken down by restaurant\n",
    "    :less_thans: list of nutrients in guide where the sum of food nutritions must be less than the guideline (such as sodium) rather than more (protein)\n",
    "    :guide: dietary recommendations taken from the government's '20-'25 Dietary Guidelines For Americans.\n",
    "    :costs: dictionary of penalties associated with exceeding / falling short of the recommendations. Must include objective nutrients\n",
    "    :objective: list of which nutrient(s) to rank by. Multiple items cause a multi-objective\n",
    "    :filter_relaxations: recommendations in guide which may be relaxed. TODO: untested\n",
    "    :meals: requires the solution to meet only (1 / meals) of each nutrient recommendation. Meals=1 & cat_limit=1 usually infeasible. Default: 2\n",
    "    :cat_limit: requires no more than cat_limit of any one food type in the solution. Prevents 31 apple juice box solutions. Default: False (no limit)\n",
    "    :min_cal_cutoff: when non-zero, omits foods from the solution with fewer calories than the cutoff. Default: 1\n",
    "    :var_type: decision variable type in B(inary), I(nteger), or C(ontinuous). Default: Integer\n",
    "    :verbose: provides detailed constraining / solving progress updates. Disable for more concise output. Default: False\n",
    "    \"\"\"\n",
    "    vprint = vprint_factory(verbose)\n",
    "    \n",
    "    if type(objective) is not list:\n",
    "        objective = [objective]\n",
    "    if len(objective) > 1:\n",
    "        for obj in objective:\n",
    "            if obj not in costs.keys():\n",
    "                raise ValueError(f\"{obj} has no associated cost in costs: {costs}. This is required to form a multi-objective.\")\n",
    "        filter_relaxations.update(cost for cost in costs.keys() if cost in objective)  # Multiobjectives rely on relaxations and costs for their variables\n",
    "    \n",
    "    m = gp.Model()\n",
    "    if (vtype := var_type[0].upper()) not in \"BIC\":\n",
    "        raise ValueError(f\"var_type must be one of B(inary), I(nteger), or C(ontinuous). {vtype} was passed\")\n",
    "    xis = [m.addVar(vtype=vtype) for _ in subset.index]  # Whether to include a food in the meal\n",
    "    f_rel = {fact: m.addVar(name=f\"{fact}_rel\") if fact in filter_relaxations else 0 for fact in guide.index}  # excess variable\n",
    "    \n",
    "    for fact, req in guide.items():  # Nutrition Requirements\n",
    "        if len(objective) == 1 and fact == objective:  # Don't constrain the objective for single-objective models\n",
    "            continue\n",
    "        if fact in less_thans:\n",
    "            vprint(f\"Constraining {fact}\".ljust(35), f\"<= {round(req, 2)}\".ljust(10), f\"across {meals} meals\")\n",
    "            m.addConstr(sum((x * extract(subset, r, fact, maximize=True) for r, x in enumerate(xis))) - f_rel[fact] <= req / meals)\n",
    "        else:\n",
    "            vprint(f\"Constraining {fact}\".ljust(35), f\">= {round(req, 2)}\".ljust(10), f\"across {meals} meals\")\n",
    "            m.addConstr(sum((x * extract(subset, r, fact, maximize=False) for r, x in enumerate(xis))) + f_rel[fact] >= req / meals)\n",
    "\n",
    "    if min_cal_cutoff:\n",
    "        for i, food in enumerate(subset.iterrows()):  # Excludes zero calorie (from fat) entries\n",
    "            if extract(subset, i, \"Calories From Fat\", maximize=False) < min_cal_cutoff:  # If Calories From Fat are unknown, they're assumed to be 0\n",
    "                m.addConstr(xis[i] == 0)  # If a food has fewer than the min_cal_cutoff, require 0 of it in the solution\n",
    "                \n",
    "    if cat_limit:\n",
    "        vprint()\n",
    "        for cat in pd.unique(subset[\"Common Category\"]):\n",
    "            vprint(f\"Constraining only {cat_limit} or fewer {cat.strip('s')} items.\")\n",
    "            m.addConstr(sum((x for i, x in enumerate(xis) if subset[\"Common Category\"][i] == cat)) <= cat_limit)\n",
    "    \n",
    "    m.setParam(\"OutputFlag\", verbose)\n",
    "    \n",
    "    if len(objective) > 1:\n",
    "        # The multiobjective value is the sum of the products of each's nutrients overage / shortage with its relative weight\n",
    "        m.ModelSense = gp.GRB.MINIMIZE\n",
    "        m.setObjective(sum(difference * costs[nutrient]\n",
    "                           if type(difference) is gp.Var else 0\n",
    "                           for nutrient, difference in f_rel.items() if nutrient in objective))\n",
    "    else:\n",
    "        # For less_than constraints, the nutrient ought to be minimized.\n",
    "        # If data for an entry is unknown, it ought to be expensive for minimization\n",
    "        # and negatively expensive for maximization as as to not be included in the solution\n",
    "        m.ModelSense = gp.GRB.MINIMIZE if objective[0] in less_thans else gp.GRB.MAXIMIZE\n",
    "        m.setObjective(sum((x * extract(subset, r, objective[0], maximize= -m.ModelSense) for r, x in enumerate(xis))) / meals)\n",
    "    return m"
   ]
  },
  {
   "cell_type": "code",
   "execution_count": 8,
   "metadata": {},
   "outputs": [],
   "source": [
    "def solution_data(model: gp.Model, model_args: dict, columns: list, multi_objective: bool) -> (pd.Series, pd.DataFrame):\n",
    "    if model.status != 2:\n",
    "        return None, None\n",
    "    results = pd.Series(index=model_args[\"objective\"], name=model_args[\"subset\"].iloc[0][\"Restaurant\"], dtype=\"float64\")\n",
    "    \n",
    "    if multi_objective:\n",
    "        results.loc[model_args[\"objective\"]] = [model.getVarByName(name + \"_rel\").x for name in model_args[\"costs\"].keys()]\n",
    "        results = results.append(pd.Series(model.ObjVal, index=[\"Overage Penalty\"]))    \n",
    "        choices = [var.x > 0 for var in model.getVars() if \"_rel\" not in var.varName]\n",
    "        values = [var.x for var in model.getVars() if var.x > 0 and \"_rel\" not in var.varName]\n",
    "    else:\n",
    "        results.iloc[0] = model.ObjVal\n",
    "        choices = [var.x > 0 for var in model.getVars()]\n",
    "        values = [var.x for var in model.getVars() if var.x > 0]\n",
    "    food_choice = model_args[\"subset\"].loc[choices, [\"Food\"] + columns].reset_index(drop=True)\n",
    "    food_choice.loc[:, \"Amount\"] = values\n",
    "    return results, food_choice"
   ]
  },
  {
   "cell_type": "code",
   "execution_count": 15,
   "metadata": {},
   "outputs": [],
   "source": [
    "def model_run(df, objectives, multi_obj, res=\"\", verbose=False):\n",
    "    vprint = vprint_factory(verbose)\n",
    "    res_list = [res] if res else pd.unique(df[\"Restaurant\"])\n",
    "    master_results = pd.DataFrame(columns=objectives + ([\"Overage Penalty\"] if multi_obj else []), index=res_list)\n",
    "    master_foods = pd.DataFrame(columns=columns + [\"Restaurant\"] + ([\"Objective\"] if not multi_obj else []), index=[])\n",
    "    \n",
    "    for res in res_list:\n",
    "        vprint(res, end=\", \")\n",
    "        subset = df.loc[df[\"Restaurant\"] == res].reset_index(drop=True)\n",
    "        model_args[\"subset\"] = subset\n",
    "\n",
    "        if multi_obj:\n",
    "            m = create_model(**model_args)\n",
    "            m.optimize()\n",
    "            results, foods = solution_data(m, model_args, columns, multi_obj)\n",
    "        else:\n",
    "            results = pd.DataFrame(columns=[], index=[res])\n",
    "            foods = pd.DataFrame(columns=columns + [\"Objective\", \"Restaurant\"], index=[])\n",
    "            for obj in objectives:\n",
    "                model_args[\"objective\"] = [obj]\n",
    "                m = create_model(**model_args)\n",
    "                m.optimize()\n",
    "                new_results, new_foods = solution_data(m, model_args, columns, multi_obj)\n",
    "                if new_results is None:\n",
    "                    vprint(f\"{res}-{obj} is infeasible.\")\n",
    "                    new_results = pd.Series(index=[obj], name=res, dtype=\"float64\")\n",
    "                    results = pd.concat([results, pd.DataFrame(new_results).T], axis=1)\n",
    "                    continue\n",
    "                results = pd.concat([results, pd.DataFrame(new_results).T], axis=1)\n",
    "                new_foods.insert(0, \"Objective\", obj)\n",
    "                foods = pd.concat([foods, new_foods], axis=0).reset_index(drop=True)\n",
    "    #             display(results)\n",
    "\n",
    "        if foods is not None:\n",
    "            foods.loc[:, \"Restaurant\"] = res\n",
    "            master_results.loc[res] = results.iloc[0]\n",
    "            master_foods = master_foods.append(foods, ignore_index = True)\n",
    "        else:\n",
    "            master_results.loc[res] = \"-\"\n",
    "\n",
    "    food_col_order = ['Restaurant', 'Amount', 'Food', 'Sodium', 'Sugars', 'Calories From Fat',\n",
    "                      'Protein', 'Total Carbohydrates', 'Dietary Fiber', 'Saturated Fat']\n",
    "    if not multi_obj:\n",
    "        food_col_order.insert(1, \"Objective\")\n",
    "    master_foods = master_foods.reindex(columns = food_col_order)\n",
    "\n",
    "    if multi_obj:\n",
    "        master_results = master_results.reindex(columns = master_results.columns[[3, 0, 1, 2]])\n",
    "        master_results = master_results.replace(\"-\", np.nan).sort_values(\"Overage Penalty\")\n",
    "    master_results.replace(np.nan, \"-\", inplace=True)\n",
    "\n",
    "    return master_results, master_foods"
   ]
  },
  {
   "cell_type": "markdown",
   "metadata": {},
   "source": [
    "\n",
    "### Status\n",
    "#### Finished\n",
    "\n",
    "* Understand why various alternate objectives aren't all feasible / infeasible together\n",
    "* Finish single objective optimization (omitting actual meals, just assessing feasibility)\n",
    "* Talk about appropriate Calorie / Sugar / Sodium Balancing\n",
    "* Add ability to introspect any particular model to analyze food choices and relaxations\n",
    "* Update guide to 2020-2025 recommendations\n",
    "    * Add conversion dictionary to import function to allow various constraints from new dataset\n",
    "* Constrain no more than 10% of the calories to come from fat\n",
    "* Simplify model: trim down to only constraints mentioned in paper\n",
    "* Drop Vitamin A because so few foods have data\n",
    "* Work towards general metric capable of ranking restaurants against one another - do for each objective\n",
    "* Individual rankings (splitting multiobjective)\n",
    "* Consider adding other relaxations\n",
    "* Get list of nutrients by which we are actually constraining\n",
    "* Simplify model to obtain more feasible solutions (ignore vitamins) (use protein, fiber, calories, iron, sugars, sodium, etc.) - potentially unnecessary given recent improvements\n",
    "* Work with C.C. to display and analyze selected menus\n",
    "* Multicriteria optimization so that the sum of all three overages is minimized, rather than just one plus the overages of the other two\n",
    "\n",
    "### Broken\n",
    "\n",
    "### In Progress\n",
    "* Check whether data problems are consistent by restaurant or whatever & fix! (Ex. Godfather's Pizza)\n",
    "* Contact FFN about dataset problems\n",
    "* Update individual analysis to allow using individual objectives\n",
    "\n",
    "### Future\n",
    "* Write all optimal diets out a spreadsheet\n"
   ]
  },
  {
   "cell_type": "markdown",
   "metadata": {},
   "source": [
    "### Data Loading"
   ]
  },
  {
   "cell_type": "code",
   "execution_count": 12,
   "metadata": {},
   "outputs": [],
   "source": [
    "df, guide = load_ref_files()"
   ]
  },
  {
   "cell_type": "markdown",
   "metadata": {},
   "source": [
    "### Run Config"
   ]
  },
  {
   "cell_type": "code",
   "execution_count": 16,
   "metadata": {},
   "outputs": [
    {
     "data": {
      "text/html": [
       "<div>\n",
       "<style scoped>\n",
       "    .dataframe tbody tr th:only-of-type {\n",
       "        vertical-align: middle;\n",
       "    }\n",
       "\n",
       "    .dataframe tbody tr th {\n",
       "        vertical-align: top;\n",
       "    }\n",
       "\n",
       "    .dataframe thead th {\n",
       "        text-align: right;\n",
       "    }\n",
       "</style>\n",
       "<table border=\"1\" class=\"dataframe\">\n",
       "  <thead>\n",
       "    <tr style=\"text-align: right;\">\n",
       "      <th></th>\n",
       "      <th>Overage Penalty</th>\n",
       "      <th>Sugars</th>\n",
       "      <th>Sodium</th>\n",
       "      <th>Calories From Fat</th>\n",
       "    </tr>\n",
       "  </thead>\n",
       "  <tbody>\n",
       "    <tr>\n",
       "      <th>Popeyes</th>\n",
       "      <td>0.0</td>\n",
       "      <td>0.0</td>\n",
       "      <td>0.0</td>\n",
       "      <td>0.0</td>\n",
       "    </tr>\n",
       "  </tbody>\n",
       "</table>\n",
       "</div>"
      ],
      "text/plain": [
       "        Overage Penalty Sugars Sodium Calories From Fat\n",
       "Popeyes             0.0    0.0    0.0               0.0"
      ]
     },
     "metadata": {},
     "output_type": "display_data"
    },
    {
     "data": {
      "text/html": [
       "<div>\n",
       "<style scoped>\n",
       "    .dataframe tbody tr th:only-of-type {\n",
       "        vertical-align: middle;\n",
       "    }\n",
       "\n",
       "    .dataframe tbody tr th {\n",
       "        vertical-align: top;\n",
       "    }\n",
       "\n",
       "    .dataframe thead th {\n",
       "        text-align: right;\n",
       "    }\n",
       "</style>\n",
       "<table border=\"1\" class=\"dataframe\">\n",
       "  <thead>\n",
       "    <tr style=\"text-align: right;\">\n",
       "      <th></th>\n",
       "      <th>Restaurant</th>\n",
       "      <th>Amount</th>\n",
       "      <th>Food</th>\n",
       "      <th>Sodium</th>\n",
       "      <th>Sugars</th>\n",
       "      <th>Calories From Fat</th>\n",
       "      <th>Protein</th>\n",
       "      <th>Total Carbohydrates</th>\n",
       "      <th>Dietary Fiber</th>\n",
       "      <th>Saturated Fat</th>\n",
       "    </tr>\n",
       "  </thead>\n",
       "  <tbody>\n",
       "    <tr>\n",
       "      <th>0</th>\n",
       "      <td>Popeyes</td>\n",
       "      <td>10.0</td>\n",
       "      <td>Corn On The Cob</td>\n",
       "      <td>0mg</td>\n",
       "      <td>0g</td>\n",
       "      <td>18</td>\n",
       "      <td>6g</td>\n",
       "      <td>37g</td>\n",
       "      <td>4g</td>\n",
       "      <td>0.5g</td>\n",
       "    </tr>\n",
       "  </tbody>\n",
       "</table>\n",
       "</div>"
      ],
      "text/plain": [
       "  Restaurant  Amount             Food Sodium Sugars Calories From Fat Protein  \\\n",
       "0    Popeyes    10.0  Corn On The Cob    0mg     0g                18      6g   \n",
       "\n",
       "  Total Carbohydrates Dietary Fiber Saturated Fat  \n",
       "0                 37g            4g          0.5g  "
      ]
     },
     "metadata": {},
     "output_type": "display_data"
    }
   ],
   "source": [
    "age, gender = 24, \"Male\"\n",
    "objectives = [\"Sugars\", \"Sodium\", \"Calories From Fat\"]  # List of objective(s). Must be list-like\n",
    "multi_obj = True  # If True, the model objective is the sum of objective overages. Otherwise, the model is solved for each nutrient separately\n",
    "verbose = False   # Whether to provide run / solve updates\n",
    "res = \"Popeyes\"   # Leave blank to run all\n",
    "out_name = \"Bulk\" # Leave blank to skip saving\n",
    "\n",
    "columns = ['Sodium', 'Sugars', 'Calories From Fat', 'Protein',\n",
    "           'Total Carbohydrates', 'Dietary Fiber', 'Saturated Fat']\n",
    "filtered_guide = guide_lookup(gender, age, guide, columns)\n",
    "\n",
    "less_thans = [\"Sodium\", \"Sugars\", \"Saturated Fat\", \"Calories From Fat\"]  # These correspond to columns from Fast Food Nutrition dataset\n",
    "costs = {\"Sugars\": 1, \"Sodium\": 50, \"Calories From Fat\": 4}   # Note units: Sugars (g) vs Sodium (mg)\n",
    "model_args = {\"less_thans\": less_thans, \"guide\": filtered_guide, \"filter_relaxations\": set(), \"objective\": objectives,\n",
    "              \"costs\": costs, \"meals\": 1, \"cat_limit\": False, \"min_cal_cutoff\": 1, \"verbose\": verbose, }\n",
    "\n",
    "results, foods = model_run(df, objectives, multi_obj, res, verbose)\n",
    "display(results)\n",
    "display(foods)"
   ]
  },
  {
   "cell_type": "markdown",
   "metadata": {},
   "source": [
    "### Saving Output"
   ]
  },
  {
   "cell_type": "code",
   "execution_count": 14,
   "metadata": {},
   "outputs": [
    {
     "data": {
      "application/javascript": [
       "$(document).ready(\n",
       "    function() {\n",
       "        function appendUniqueDiv(){\n",
       "            // append a div with our uuid so we can check that it's already\n",
       "            // been sent and avoid duplicates on page reload\n",
       "            var notifiedDiv = document.createElement(\"div\")\n",
       "            notifiedDiv.id = \"ea997975-dec8-419a-b547-b6cbbe62a08b\"\n",
       "            element.append(notifiedDiv)\n",
       "        }\n",
       "\n",
       "        // only send notifications if the pageload is complete; this will\n",
       "        // help stop extra notifications when a saved notebook is loaded,\n",
       "        // which during testing gives us state \"interactive\", not \"complete\"\n",
       "        if (document.readyState === 'complete') {\n",
       "            // check for the div that signifies that the notification\n",
       "            // was already sent\n",
       "            if (document.getElementById(\"ea997975-dec8-419a-b547-b6cbbe62a08b\") === null) {\n",
       "                var notificationPayload = {\"requireInteraction\": false, \"icon\": \"/static/base/images/favicon.ico\", \"body\": \"Results saved\"};\n",
       "                if (Notification.permission !== 'denied') {\n",
       "                    if (Notification.permission !== 'granted') { \n",
       "                        Notification.requestPermission(function (permission) {\n",
       "                            if(!('permission' in Notification)) {\n",
       "                                Notification.permission = permission\n",
       "                            }\n",
       "                        })\n",
       "                    }\n",
       "                    if (Notification.permission === 'granted') {\n",
       "                    var notification = new Notification(\"Jupyter Notebook\", notificationPayload)\n",
       "                    appendUniqueDiv()\n",
       "                    notification.onclick = function () {\n",
       "                        window.focus();\n",
       "                        this.close();\n",
       "                        };\n",
       "                    } \n",
       "                }     \n",
       "            }\n",
       "        }\n",
       "    }\n",
       ")\n"
      ],
      "text/plain": [
       "<IPython.core.display.Javascript object>"
      ]
     },
     "metadata": {},
     "output_type": "display_data"
    }
   ],
   "source": [
    "outname = \"./\" + out_name + \".xlsx\"\n",
    "with pd.ExcelWriter(\"./\" + out_name + \".xlsx\", mode='a') as writer:\n",
    "    master_results.to_excel(writer, sheet_name = \"Rankings1\" + (\"-Multi\" if multi_obj else \"\"))\n",
    "    master_foods.to_excel(writer, sheet_name = \"Foods1\" + (\"-Multi\" if multi_obj else \"\"), index=False)\n",
    "%notify -m \"Results saved\""
   ]
  }
 ],
 "metadata": {
  "kernelspec": {
   "display_name": "Python [conda env:NutritionResearch]",
   "language": "python",
   "name": "conda-env-NutritionResearch-py"
  },
  "language_info": {
   "codemirror_mode": {
    "name": "ipython",
    "version": 3
   },
   "file_extension": ".py",
   "mimetype": "text/x-python",
   "name": "python",
   "nbconvert_exporter": "python",
   "pygments_lexer": "ipython3",
   "version": "3.8.5"
  }
 },
 "nbformat": 4,
 "nbformat_minor": 4
}
