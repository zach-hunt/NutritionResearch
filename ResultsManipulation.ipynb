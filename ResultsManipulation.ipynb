{
 "cells": [
  {
   "cell_type": "markdown",
   "metadata": {},
   "source": [
    "### Imports"
   ]
  },
  {
   "cell_type": "code",
   "execution_count": 1,
   "metadata": {},
   "outputs": [],
   "source": [
    "import pandas as pd"
   ]
  },
  {
   "cell_type": "markdown",
   "metadata": {},
   "source": [
    "### Input, Manipulation, and Output"
   ]
  },
  {
   "cell_type": "code",
   "execution_count": 65,
   "metadata": {},
   "outputs": [
    {
     "name": "stdout",
     "output_type": "stream",
     "text": [
      "Reading results...\n",
      "Arby's, Baskin-Robbins, Blimpie, Bojangles, Boston Market, Burger King, Chipotle, Culvers, Dairy Queen, Del Taco, Dunkin Donuts, Five Guys, Godfather's Pizza, Jersey Mike's, KFC, Long John Silver's, Panda Express, Popeyes, Raising Cane's, Red Lobster, Sonic, Subway, Taco Bell, Wendy's, Whataburger, Zaxby's, Chick-fil-A, McDonald's, Olive Garden, Finished! ./ModelOutput/BULK-StrictEqualityCatRestriction3/All Restaurant Food Count by Age & Restaurant.xlsx\n"
     ]
    }
   ],
   "source": [
    "folder_name = \"BULK-StrictEqualityCatRestriction3/\" # This must end in a slash\n",
    "output_name = \"All Restaurant Food Count by Age & Restaurant\"\n",
    "outname = \"./ModelOutput/\" + folder_name + output_name + \".xlsx\"\n",
    "multi_obj = False\n",
    "\n",
    "print(\"Reading results...\")\n",
    "ages = [2, 4, 9, 14, 19, 31, 51]\n",
    "genders = [\"Male\", \"Female\"]\n",
    "objectives = []\n",
    "foods = []\n",
    "for age in ages:\n",
    "    for gender in genders:\n",
    "        in_name = f\"{gender}-{age}\"\n",
    "        inname = \"./ModelOutput/\" + folder_name + in_name + \".xlsx\" \n",
    "        ob = pd.read_excel(inname, sheet_name=\"Rankings\")\n",
    "        ob.loc[:, \"Age\"] = age\n",
    "        ob.loc[:, \"Gender\"] = gender\n",
    "        objectives.append(ob)\n",
    "        \n",
    "        fd = pd.read_excel(inname, sheet_name=\"Foods\")\n",
    "        fd.loc[:, \"Age\"] = age\n",
    "        fd.loc[:, \"Gender\"] = gender\n",
    "        foods.append(fd)\n",
    "ob_bunch = pd.concat(objectives).rename({\"Unnamed: 0\": \"Restaurant\"}, axis=1)\n",
    "fd_bunch = pd.concat(foods).rename({\"Unnamed: 0\": \"Restaurant\"}, axis=1)\n",
    "\n",
    "# curr_row = 1\n",
    "all_results = []\n",
    "for res in pd.unique(fd_bunch[\"Restaurant\"]):  # [\"Blimpie\"]\n",
    "        print(res, end=\", \")\n",
    "\n",
    "        filtered_foods = fd_bunch[fd_bunch[\"Restaurant\"] == res].loc[:, [\"Food\", \"Objective\", \"Amount\", \"Gender\", \"Age\"]]\n",
    "        ptable = pd.pivot_table(filtered_foods, index=[\"Food\", \"Objective\"], columns=[\"Gender\", \"Age\"], observed=True).round(2)\n",
    "\n",
    "        escape_amp = lambda s: s.replace(\"&\", r\"\\&\").replace(\"%\", \"\\%\")  # LaTeX does not like the raw '&'. This and the following line escape ('\\&') them.\n",
    "        ptable.index = pd.MultiIndex.from_tuples([tuple([escape_amp(l) for l in row]) for row in ptable.index])\n",
    "\n",
    "        shorted_cals = lambda s: s.replace(\"Calories From Fat\", \"Fat\")  # LaTeX does not like the raw '&'. This and the following line escape ('\\&') them.\n",
    "        ptable.index = pd.MultiIndex.from_tuples([tuple([shorted_cals(l) for l in row]) for row in ptable.index])\n",
    "\n",
    "        ptable = ptable.T\n",
    "        ptable.insert(0, \"Restaurant\", [res] + [\"\"] * (len(ptable.index) - 1))\n",
    "        ptable = ptable.T\n",
    "        \n",
    "        all_results.append(ptable)\n",
    "\n",
    "full_table = pd.concat(all_results)\n",
    "with pd.ExcelWriter(outname) as writer:\n",
    "    full_table.to_excel(writer, merge_cells=False)\n",
    "        \n",
    "print(\"Finished!\\nResults written to: \", outname)"
   ]
  },
  {
   "cell_type": "code",
   "execution_count": 16,
   "metadata": {},
   "outputs": [],
   "source": [
    "escape_percent = lambda s: str(s).replace(\"%\", r\"\\%\")  # LaTeX does not like the raw '&'. This and the following line escape ('\\&') them.\n",
    "tmp = pd.read_excel(outname, index_col=[0, 1])\n",
    "tmp.index = pd.MultiIndex.from_tuples([tuple([escape_percent(l) for l in row]) for row in tmp.index])\n",
    "tmp.to_excel(outname[:-5] + \"-modified.xlsx\", merge_cells=False)"
   ]
  }
 ],
 "metadata": {
  "kernelspec": {
   "display_name": "Python [conda env:NutritionResearch]",
   "language": "python",
   "name": "conda-env-NutritionResearch-py"
  },
  "language_info": {
   "codemirror_mode": {
    "name": "ipython",
    "version": 3
   },
   "file_extension": ".py",
   "mimetype": "text/x-python",
   "name": "python",
   "nbconvert_exporter": "python",
   "pygments_lexer": "ipython3",
   "version": "3.8.5"
  }
 },
 "nbformat": 4,
 "nbformat_minor": 4
}
