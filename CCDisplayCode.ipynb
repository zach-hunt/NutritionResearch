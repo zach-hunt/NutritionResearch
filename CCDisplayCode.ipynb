{
 "cells": [
  {
   "cell_type": "markdown",
   "metadata": {},
   "source": [
    "# hello friend!"
   ]
  },
  {
   "cell_type": "code",
   "execution_count": null,
   "metadata": {},
   "outputs": [],
   "source": [
    "def display_details(m, model_args, subset, display_df) -> pd.DataFrame:\n",
    "    \n",
    "    #hi Zach! i added another parameter 'display_df'\n",
    "        #this is so the function can return a df and you can use this function\n",
    "        #in a for loop to create a big ole data frame for all the restaurants\n",
    "    \n",
    "    #this grabs the optimal foods from restaurant menu\n",
    "    best_choices = [i for i, menu_item in enumerate(m.getVars()) if menu_item.x > 0 and \"rel\" not in menu_item.VarName]\n",
    "\n",
    "    selection = subset.iloc[best_choices] #this is the pandas table of optimal foods\n",
    "    \n",
    "    res_name = subset.iloc[1][1]\n",
    "    from_fat = 0 #calories from fat - i didn't feel like writing that every time\n",
    "    sodium = 0\n",
    "    protein = 0\n",
    "    sugar = 0\n",
    "    meals = \"\"\n",
    "    for food_num in best_choices:\n",
    "        from_fat += int(subset.iloc[food_num][5]) #accessing calories from fat\n",
    "        str_sodium = (subset.iloc[food_num][11])[:-2] #accessing sodium and getting rid of 'mg'\n",
    "        sodium += int(str_sodium)\n",
    "        str_sugar = (subset.iloc[food_num][14])[:-1]\n",
    "        sugar += int(str_sugar)\n",
    "        str_protein = (subset.iloc[food_num][15])[:-1]\n",
    "        protein += int(str_protein)\n",
    "        meals += subset.iloc[food_num][3] + \", \"\n",
    "    meals = meals[:-2] #getting rid of space & comma at end\n",
    "    \n",
    "    #you can edit this as you see fit; i trust you know what this part does :)\n",
    "    new_row = {'Restaurant':res_name, 'Calories From Fat':from_fat, 'Sugars':sugar, 'Sodium':sodium, 'Protein':protein, 'Meal':meals}\n",
    "    display_df = display_df.append(new_row, ignore_index=True)\n",
    "    return display_df\n",
    "    \n",
    "    #!!NOTE!! Hardee's, In-N-Out, Jimmy Johns, Olive Garden, and Pizza Hut\n",
    "        #all had issues with this function so it might be a lil buggy I'm sorry!"
   ]
  }
 ],
 "metadata": {
  "kernelspec": {
   "display_name": "Python 3",
   "language": "python",
   "name": "python3"
  },
  "language_info": {
   "codemirror_mode": {
    "name": "ipython",
    "version": 3
   },
   "file_extension": ".py",
   "mimetype": "text/x-python",
   "name": "python",
   "nbconvert_exporter": "python",
   "pygments_lexer": "ipython3",
   "version": "3.8.5"
  }
 },
 "nbformat": 4,
 "nbformat_minor": 4
}
